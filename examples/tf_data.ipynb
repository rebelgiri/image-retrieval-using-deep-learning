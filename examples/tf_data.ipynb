{
 "cells": [
  {
   "cell_type": "code",
   "execution_count": 1,
   "id": "e6f21dd3",
   "metadata": {},
   "outputs": [
    {
     "name": "stderr",
     "output_type": "stream",
     "text": [
      "2023-03-03 15:31:01.816456: I tensorflow/core/platform/cpu_feature_guard.cc:193] This TensorFlow binary is optimized with oneAPI Deep Neural Network Library (oneDNN) to use the following CPU instructions in performance-critical operations:  AVX2 FMA\n",
      "To enable them in other operations, rebuild TensorFlow with the appropriate compiler flags.\n",
      "2023-03-03 15:31:02.265582: W tensorflow/compiler/xla/stream_executor/platform/default/dso_loader.cc:64] Could not load dynamic library 'libnvinfer.so.7'; dlerror: libnvinfer.so.7: cannot open shared object file: No such file or directory; LD_LIBRARY_PATH: /usr/local/cuda-11.2/lib64::/usr/local/cuda-11.2/lib64:\n",
      "2023-03-03 15:31:02.265622: W tensorflow/compiler/xla/stream_executor/platform/default/dso_loader.cc:64] Could not load dynamic library 'libnvinfer_plugin.so.7'; dlerror: libnvinfer_plugin.so.7: cannot open shared object file: No such file or directory; LD_LIBRARY_PATH: /usr/local/cuda-11.2/lib64::/usr/local/cuda-11.2/lib64:\n",
      "2023-03-03 15:31:02.265626: W tensorflow/compiler/tf2tensorrt/utils/py_utils.cc:38] TF-TRT Warning: Cannot dlopen some TensorRT libraries. If you would like to use Nvidia GPU with TensorRT, please make sure the missing libraries mentioned above are installed properly.\n"
     ]
    }
   ],
   "source": [
    "import tensorflow as tf"
   ]
  },
  {
   "cell_type": "code",
   "execution_count": 2,
   "id": "b602928d",
   "metadata": {},
   "outputs": [
    {
     "name": "stderr",
     "output_type": "stream",
     "text": [
      "2023-03-03 15:31:02.806314: I tensorflow/compiler/xla/stream_executor/cuda/cuda_gpu_executor.cc:981] successful NUMA node read from SysFS had negative value (-1), but there must be at least one NUMA node, so returning NUMA node zero\n",
      "2023-03-03 15:31:02.810682: I tensorflow/compiler/xla/stream_executor/cuda/cuda_gpu_executor.cc:981] successful NUMA node read from SysFS had negative value (-1), but there must be at least one NUMA node, so returning NUMA node zero\n",
      "2023-03-03 15:31:02.810850: I tensorflow/compiler/xla/stream_executor/cuda/cuda_gpu_executor.cc:981] successful NUMA node read from SysFS had negative value (-1), but there must be at least one NUMA node, so returning NUMA node zero\n",
      "2023-03-03 15:31:02.811692: I tensorflow/core/platform/cpu_feature_guard.cc:193] This TensorFlow binary is optimized with oneAPI Deep Neural Network Library (oneDNN) to use the following CPU instructions in performance-critical operations:  AVX2 FMA\n",
      "To enable them in other operations, rebuild TensorFlow with the appropriate compiler flags.\n",
      "2023-03-03 15:31:02.812617: I tensorflow/compiler/xla/stream_executor/cuda/cuda_gpu_executor.cc:981] successful NUMA node read from SysFS had negative value (-1), but there must be at least one NUMA node, so returning NUMA node zero\n",
      "2023-03-03 15:31:02.812778: I tensorflow/compiler/xla/stream_executor/cuda/cuda_gpu_executor.cc:981] successful NUMA node read from SysFS had negative value (-1), but there must be at least one NUMA node, so returning NUMA node zero\n",
      "2023-03-03 15:31:02.812914: I tensorflow/compiler/xla/stream_executor/cuda/cuda_gpu_executor.cc:981] successful NUMA node read from SysFS had negative value (-1), but there must be at least one NUMA node, so returning NUMA node zero\n",
      "2023-03-03 15:31:03.111958: I tensorflow/compiler/xla/stream_executor/cuda/cuda_gpu_executor.cc:981] successful NUMA node read from SysFS had negative value (-1), but there must be at least one NUMA node, so returning NUMA node zero\n",
      "2023-03-03 15:31:03.112093: I tensorflow/compiler/xla/stream_executor/cuda/cuda_gpu_executor.cc:981] successful NUMA node read from SysFS had negative value (-1), but there must be at least one NUMA node, so returning NUMA node zero\n",
      "2023-03-03 15:31:03.112187: I tensorflow/compiler/xla/stream_executor/cuda/cuda_gpu_executor.cc:981] successful NUMA node read from SysFS had negative value (-1), but there must be at least one NUMA node, so returning NUMA node zero\n",
      "2023-03-03 15:31:03.112265: I tensorflow/core/common_runtime/gpu/gpu_device.cc:1613] Created device /job:localhost/replica:0/task:0/device:GPU:0 with 873 MB memory:  -> device: 0, name: NVIDIA GeForce RTX 3090, pci bus id: 0000:2d:00.0, compute capability: 8.6\n"
     ]
    }
   ],
   "source": [
    "dataset = tf.data.Dataset.from_tensor_slices([8, 3, 0, 8, 2, 1])"
   ]
  },
  {
   "cell_type": "code",
   "execution_count": 3,
   "id": "642737fa",
   "metadata": {},
   "outputs": [
    {
     "data": {
      "text/plain": [
       "<TensorSliceDataset element_spec=TensorSpec(shape=(), dtype=tf.int32, name=None)>"
      ]
     },
     "execution_count": 3,
     "metadata": {},
     "output_type": "execute_result"
    }
   ],
   "source": [
    "dataset"
   ]
  },
  {
   "cell_type": "code",
   "execution_count": 4,
   "id": "cb1f1389",
   "metadata": {},
   "outputs": [
    {
     "data": {
      "text/plain": [
       "6"
      ]
     },
     "execution_count": 4,
     "metadata": {},
     "output_type": "execute_result"
    }
   ],
   "source": [
    "len(dataset)"
   ]
  },
  {
   "cell_type": "code",
   "execution_count": 5,
   "id": "c91430e6",
   "metadata": {},
   "outputs": [
    {
     "name": "stdout",
     "output_type": "stream",
     "text": [
      "8\n",
      "3\n",
      "0\n",
      "8\n",
      "2\n",
      "1\n"
     ]
    }
   ],
   "source": [
    "for elem in dataset:\n",
    "  print(elem.numpy())"
   ]
  },
  {
   "cell_type": "code",
   "execution_count": 6,
   "id": "2e11ded4",
   "metadata": {},
   "outputs": [
    {
     "name": "stdout",
     "output_type": "stream",
     "text": [
      "8\n",
      "3\n",
      "0\n"
     ]
    }
   ],
   "source": [
    "it = iter(dataset)\n",
    "\n",
    "print(next(it).numpy())\n",
    "print(next(it).numpy())\n",
    "print(next(it).numpy())"
   ]
  },
  {
   "cell_type": "code",
   "execution_count": 7,
   "id": "caeeaf2e",
   "metadata": {},
   "outputs": [
    {
     "name": "stdout",
     "output_type": "stream",
     "text": [
      "WARNING:tensorflow:From /home/fusionsystems/Dokumente/gpa/tensorflow/lib/python3.9/site-packages/tensorflow/python/autograph/pyct/static_analysis/liveness.py:83: Analyzer.lamba_check (from tensorflow.python.autograph.pyct.static_analysis.liveness) is deprecated and will be removed after 2023-09-23.\n",
      "Instructions for updating:\n",
      "Lambda fuctions will be no more assumed to be used in the statement where they are used, or at least in the same block. https://github.com/tensorflow/tensorflow/issues/56089\n",
      "22\n"
     ]
    }
   ],
   "source": [
    "print(dataset.reduce(0, lambda state, value: state + value).numpy())"
   ]
  },
  {
   "cell_type": "code",
   "execution_count": 8,
   "id": "81c177e2",
   "metadata": {},
   "outputs": [
    {
     "name": "stdout",
     "output_type": "stream",
     "text": [
      "27\n"
     ]
    }
   ],
   "source": [
    "print(dataset.reduce(5, lambda state, value: state + value).numpy())"
   ]
  },
  {
   "cell_type": "code",
   "execution_count": 9,
   "id": "e1c1b942",
   "metadata": {},
   "outputs": [
    {
     "data": {
      "text/plain": [
       "TensorSpec(shape=(10,), dtype=tf.float32, name=None)"
      ]
     },
     "execution_count": 9,
     "metadata": {},
     "output_type": "execute_result"
    }
   ],
   "source": [
    "dataset1 = tf.data.Dataset.from_tensor_slices(tf.random.uniform([4, 10]))\n",
    "dataset1.element_spec"
   ]
  },
  {
   "cell_type": "code",
   "execution_count": 10,
   "id": "c358fc7d",
   "metadata": {},
   "outputs": [
    {
     "data": {
      "text/plain": [
       "TensorSpec(shape=(10,), dtype=tf.float32, name=None)"
      ]
     },
     "execution_count": 10,
     "metadata": {},
     "output_type": "execute_result"
    }
   ],
   "source": [
    "dataset1.element_spec"
   ]
  },
  {
   "cell_type": "code",
   "execution_count": 11,
   "id": "2b09aa62",
   "metadata": {},
   "outputs": [
    {
     "data": {
      "text/plain": [
       "<tf.Tensor: shape=(4, 10), dtype=float32, numpy=\n",
       "array([[0.60961974, 0.14195287, 0.56842613, 0.52302   , 0.6738534 ,\n",
       "        0.88964665, 0.5754889 , 0.22995663, 0.44261754, 0.60117817],\n",
       "       [0.7139089 , 0.03809655, 0.62570465, 0.9671459 , 0.8951957 ,\n",
       "        0.77446425, 0.24921644, 0.8977852 , 0.39549196, 0.07810843],\n",
       "       [0.35035217, 0.483595  , 0.7953185 , 0.895053  , 0.893644  ,\n",
       "        0.4918188 , 0.5166904 , 0.71212304, 0.89914584, 0.5918118 ],\n",
       "       [0.44696188, 0.1891824 , 0.7148801 , 0.29798222, 0.29623795,\n",
       "        0.39439225, 0.6699985 , 0.58090794, 0.82338727, 0.29670835]],\n",
       "      dtype=float32)>"
      ]
     },
     "execution_count": 11,
     "metadata": {},
     "output_type": "execute_result"
    }
   ],
   "source": [
    "tf.random.uniform([4, 10])"
   ]
  },
  {
   "cell_type": "code",
   "execution_count": 12,
   "id": "a973b5a2",
   "metadata": {},
   "outputs": [
    {
     "data": {
      "text/plain": [
       "<TensorSliceDataset element_spec=TensorSpec(shape=(10,), dtype=tf.int32, name=None)>"
      ]
     },
     "execution_count": 12,
     "metadata": {},
     "output_type": "execute_result"
    }
   ],
   "source": [
    "dataset1 = tf.data.Dataset.from_tensor_slices(\n",
    "    tf.random.uniform([4, 10], minval=1, maxval=10, dtype=tf.int32))\n",
    "\n",
    "dataset1"
   ]
  },
  {
   "cell_type": "code",
   "execution_count": 13,
   "id": "8b94226a",
   "metadata": {},
   "outputs": [
    {
     "name": "stdout",
     "output_type": "stream",
     "text": [
      "[8 8 4 9 2 2 3 8 9 6]\n",
      "[4 7 8 2 4 2 8 8 8 3]\n",
      "[5 7 7 3 7 9 8 6 6 3]\n",
      "[2 6 1 7 5 8 7 8 2 2]\n"
     ]
    }
   ],
   "source": [
    "for z in dataset1:\n",
    "  print(z.numpy())"
   ]
  },
  {
   "cell_type": "code",
   "execution_count": 14,
   "id": "921fddb8",
   "metadata": {},
   "outputs": [
    {
     "data": {
      "text/plain": [
       "<TensorSliceDataset element_spec=(TensorSpec(shape=(), dtype=tf.float32, name=None), TensorSpec(shape=(100,), dtype=tf.int32, name=None))>"
      ]
     },
     "execution_count": 14,
     "metadata": {},
     "output_type": "execute_result"
    }
   ],
   "source": [
    "dataset2 = tf.data.Dataset.from_tensor_slices(\n",
    "   (tf.random.uniform([4]),\n",
    "    tf.random.uniform([4, 100], maxval=100, dtype=tf.int32)))\n",
    "\n",
    "dataset2"
   ]
  },
  {
   "cell_type": "code",
   "execution_count": 15,
   "id": "6efd0c69",
   "metadata": {},
   "outputs": [
    {
     "data": {
      "text/plain": [
       "4"
      ]
     },
     "execution_count": 15,
     "metadata": {},
     "output_type": "execute_result"
    }
   ],
   "source": [
    "len(dataset2)"
   ]
  },
  {
   "cell_type": "code",
   "execution_count": 16,
   "id": "47f749c7",
   "metadata": {},
   "outputs": [
    {
     "name": "stdout",
     "output_type": "stream",
     "text": [
      "(<tf.Tensor: shape=(), dtype=float32, numpy=0.7055193>, <tf.Tensor: shape=(100,), dtype=int32, numpy=\n",
      "array([84, 82, 92, 38, 13, 48, 80, 54, 61, 90, 79, 32, 33, 30, 94, 99, 17,\n",
      "       12, 77, 40,  7, 18, 93, 65,  8, 16, 74, 39, 41, 84,  2, 72, 99, 15,\n",
      "       45, 95, 46,  6, 38, 69, 97,  5, 71, 38, 11, 21, 22, 71, 44, 80, 37,\n",
      "       14, 93, 74, 54, 61, 74, 20, 21, 50, 95, 60, 66, 25, 72, 10, 84, 10,\n",
      "       90, 35, 28, 62, 54, 32, 98, 48, 60, 18, 66, 37, 20, 54, 26, 15, 98,\n",
      "       59, 66, 74, 28, 60, 91, 53, 56, 57,  4, 43, 52, 91, 25, 95],\n",
      "      dtype=int32)>)\n",
      "(<tf.Tensor: shape=(), dtype=float32, numpy=0.7817211>, <tf.Tensor: shape=(100,), dtype=int32, numpy=\n",
      "array([90, 58, 82,  9, 69, 42,  7, 32, 65, 84, 88, 53, 81, 37, 63, 93, 76,\n",
      "       67, 93, 74, 59, 71, 21, 88, 57, 45, 85, 16, 78, 20, 14, 58, 99, 13,\n",
      "       61,  9, 28, 98, 29, 16, 86,  5, 97, 83, 97, 17, 30, 85, 59, 44, 90,\n",
      "       98, 56, 88, 98, 46,  4, 47, 13, 75, 41, 33,  0, 25, 82, 24, 50, 57,\n",
      "       93, 84, 87, 64, 28, 18, 89, 62, 58, 64, 38, 24, 44, 59, 41, 80, 22,\n",
      "       62, 38, 19, 97, 90, 81, 90, 73, 30, 91,  2, 12, 62, 13, 78],\n",
      "      dtype=int32)>)\n",
      "(<tf.Tensor: shape=(), dtype=float32, numpy=0.11145663>, <tf.Tensor: shape=(100,), dtype=int32, numpy=\n",
      "array([97, 50, 72, 62, 85, 40, 65, 74,  0, 66, 86, 96, 99, 64, 13, 83, 75,\n",
      "       46, 51, 91, 11,  6, 86, 60, 62, 14, 43, 53, 38, 10, 79, 98, 35, 13,\n",
      "       39, 18, 77, 31, 26, 43, 47, 78, 18, 50, 11, 37, 40, 25, 82, 55, 57,\n",
      "       53, 66, 82, 95, 98, 44, 39, 73,  9, 59, 96, 52,  2, 30, 59, 94,  7,\n",
      "       30, 86,  8,  6, 36, 97, 30,  4, 43, 59, 26,  3, 20, 86, 68, 80, 62,\n",
      "       84,  2, 90, 18, 13, 51, 52, 78, 76, 99,  7, 43, 32, 45, 61],\n",
      "      dtype=int32)>)\n",
      "(<tf.Tensor: shape=(), dtype=float32, numpy=0.057806134>, <tf.Tensor: shape=(100,), dtype=int32, numpy=\n",
      "array([15, 48, 87, 14, 35, 19, 78, 69, 47, 38, 12, 20, 76, 98, 96, 93,  9,\n",
      "        7, 10, 82, 15, 75, 96, 50,  2,  2, 73, 78, 96, 88, 64, 74, 69, 26,\n",
      "       42, 58, 69, 29, 45, 89, 72, 54, 82, 14, 10, 69, 94, 76, 90, 98, 87,\n",
      "       26, 24, 81, 78, 26, 13,  2, 93, 32, 46, 21, 78, 33,  4, 63, 49, 18,\n",
      "       12, 93, 18, 40, 82, 24,  1, 72, 64, 53, 28, 75, 50, 15, 10, 31, 74,\n",
      "       34, 86, 28, 57, 16, 81, 52, 43, 31, 64, 82, 94, 51, 86, 71],\n",
      "      dtype=int32)>)\n"
     ]
    }
   ],
   "source": [
    "for i in dataset2:\n",
    "    print(i)"
   ]
  },
  {
   "cell_type": "code",
   "execution_count": 17,
   "id": "c2bdd8a9",
   "metadata": {},
   "outputs": [
    {
     "name": "stdout",
     "output_type": "stream",
     "text": [
      "tf.Tensor([1 2 3], shape=(3,), dtype=int32)\n",
      "tf.Tensor([3 5 4], shape=(3,), dtype=int32)\n"
     ]
    }
   ],
   "source": [
    "dataset = tf.data.Dataset.from_tensor_slices([[1, 2, 3], [3, 5, 4]])\n",
    "\n",
    "\n",
    "for i in dataset:\n",
    "    print(i)"
   ]
  },
  {
   "cell_type": "code",
   "execution_count": 18,
   "id": "9845bef9",
   "metadata": {},
   "outputs": [
    {
     "ename": "AttributeError",
     "evalue": "'TensorSliceDataset' object has no attribute 'shape'",
     "output_type": "error",
     "traceback": [
      "\u001b[0;31m---------------------------------------------------------------------------\u001b[0m",
      "\u001b[0;31mAttributeError\u001b[0m                            Traceback (most recent call last)",
      "Cell \u001b[0;32mIn[18], line 1\u001b[0m\n\u001b[0;32m----> 1\u001b[0m \u001b[43mdataset\u001b[49m\u001b[38;5;241;43m.\u001b[39;49m\u001b[43mshape\u001b[49m()\n",
      "\u001b[0;31mAttributeError\u001b[0m: 'TensorSliceDataset' object has no attribute 'shape'"
     ]
    }
   ],
   "source": [
    "dataset.shape()"
   ]
  },
  {
   "cell_type": "code",
   "execution_count": null,
   "id": "3ae496dd",
   "metadata": {},
   "outputs": [],
   "source": [
    "len(dataset)"
   ]
  },
  {
   "cell_type": "code",
   "execution_count": null,
   "id": "e596f6cc",
   "metadata": {},
   "outputs": [],
   "source": [
    "dataset2 = tf.data.Dataset.from_tensor_slices((tf.random.uniform([4, 100]),\n",
    "    tf.random.uniform([4, 100], maxval=100, dtype=tf.int32)))"
   ]
  },
  {
   "cell_type": "code",
   "execution_count": null,
   "id": "39394282",
   "metadata": {},
   "outputs": [],
   "source": [
    "# for i in dataset2:\n",
    "#    print(i)\n",
    "    \n",
    "len(dataset2)"
   ]
  },
  {
   "cell_type": "code",
   "execution_count": null,
   "id": "e081c512",
   "metadata": {},
   "outputs": [],
   "source": [
    "tf.random.uniform([4, 1, 1])"
   ]
  },
  {
   "cell_type": "code",
   "execution_count": null,
   "id": "dafc6ead",
   "metadata": {},
   "outputs": [],
   "source": [
    "(tf.random.uniform([4, 1]),\n",
    "    tf.random.uniform([4, 1], maxval=100, dtype=tf.int32))"
   ]
  },
  {
   "cell_type": "code",
   "execution_count": null,
   "id": "bf1c0f57",
   "metadata": {},
   "outputs": [],
   "source": [
    "dataset2 = tf.data.Dataset.from_tensor_slices(tf.random.uniform([4, 1]))"
   ]
  },
  {
   "cell_type": "code",
   "execution_count": null,
   "id": "5b7aab9c",
   "metadata": {},
   "outputs": [],
   "source": [
    "for i in dataset2:\n",
    "    print(i)"
   ]
  },
  {
   "cell_type": "code",
   "execution_count": null,
   "id": "791d5792",
   "metadata": {},
   "outputs": [],
   "source": [
    "dataset2 = tf.data.Dataset.from_tensor_slices(\n",
    "   (tf.random.uniform([4]),\n",
    "    tf.random.uniform([4, 1], maxval=100, dtype=tf.int32)))\n",
    "\n",
    "dataset2.element_spec"
   ]
  },
  {
   "cell_type": "code",
   "execution_count": null,
   "id": "316d0064",
   "metadata": {},
   "outputs": [],
   "source": [
    "for i in dataset2:\n",
    "    print(i)"
   ]
  },
  {
   "cell_type": "code",
   "execution_count": null,
   "id": "23d96300",
   "metadata": {},
   "outputs": [],
   "source": [
    "dataset1 = tf.data.Dataset.from_tensor_slices(tf.random.uniform([4, 1]))\n",
    "\n",
    "#dataset1.element_spec\n",
    "\n",
    "\n",
    "dataset2 = tf.data.Dataset.from_tensor_slices(\n",
    "   (tf.random.uniform([1]),\n",
    "    tf.random.uniform([1, 2], maxval=100, dtype=tf.int32)))\n",
    "\n",
    "#dataset2.element_spec\n",
    "\n",
    "\n",
    "dataset3 = tf.data.Dataset.zip((dataset1, dataset2))\n",
    "\n",
    "dataset3.element_spec\n",
    "\n",
    "\n",
    "for i in dataset3:\n",
    "    print(i)\n",
    "    "
   ]
  },
  {
   "cell_type": "code",
   "execution_count": null,
   "id": "2592b7f2",
   "metadata": {},
   "outputs": [],
   "source": [
    "dataset1 = tf.data.Dataset.from_tensor_slices(\n",
    "    (tf.random.uniform([1, 1]), tf.random.uniform([1, 1])))\n",
    "\n",
    "dataset2 = tf.data.Dataset.from_tensors(\n",
    "    (tf.random.uniform([1, 1]), tf.random.uniform([1, 1])))\n",
    "\n",
    "for i, item in enumerate(dataset1):\n",
    "    print('element: ' + str(i + 1), item[0], item[1])\n",
    "\n",
    "print(30*'-')\n",
    "\n",
    "for i, item in enumerate(dataset2):\n",
    "    print('element: ' + str(i + 1), item[0], item[1])"
   ]
  },
  {
   "cell_type": "code",
   "execution_count": null,
   "id": "5c758782",
   "metadata": {},
   "outputs": [],
   "source": [
    "dataset1 = tf.data.Dataset.from_tensor_slices(\n",
    "    [tf.random.uniform([2, 3]), tf.random.uniform([2, 3])])\n",
    "\n",
    "dataset2 = tf.data.Dataset.from_tensors(\n",
    "    [tf.random.uniform([2, 3]), tf.random.uniform([2, 3])])"
   ]
  },
  {
   "cell_type": "code",
   "execution_count": null,
   "id": "079701eb",
   "metadata": {},
   "outputs": [],
   "source": [
    "dataset1 = tf.data.Dataset.from_tensor_slices(\n",
    "    [tf.random.uniform([2, 3]), tf.random.uniform([2, 3])])\n",
    "\n",
    "dataset2 = tf.data.Dataset.from_tensors(\n",
    "    [tf.random.uniform([2, 3]), tf.random.uniform([2, 3])])\n",
    "\n",
    "print(dataset1) # shapes: (2, 3)\n",
    "print(dataset2) # shapes: (2, 2, 3)"
   ]
  },
  {
   "cell_type": "code",
   "execution_count": null,
   "id": "516b8334",
   "metadata": {},
   "outputs": [],
   "source": [
    "len(dataset1)"
   ]
  },
  {
   "cell_type": "code",
   "execution_count": null,
   "id": "1727db8d",
   "metadata": {},
   "outputs": [],
   "source": [
    "len(dataset2)"
   ]
  },
  {
   "cell_type": "code",
   "execution_count": null,
   "id": "337eaf85",
   "metadata": {},
   "outputs": [],
   "source": [
    "for i in dataset2:\n",
    "    print(i)"
   ]
  },
  {
   "cell_type": "code",
   "execution_count": null,
   "id": "69d053e4",
   "metadata": {},
   "outputs": [],
   "source": [
    "dataset1 = tf.data.Dataset.from_tensor_slices(\n",
    "    tf.random.uniform([4, 1], minval=1, maxval=10, dtype=tf.int32))\n",
    "\n",
    "dataset2 = tf.data.Dataset.from_tensor_slices(\n",
    "   (tf.random.uniform([4]),\n",
    "    tf.random.uniform([4, 2], maxval=100, dtype=tf.int32)))\n"
   ]
  },
  {
   "cell_type": "code",
   "execution_count": null,
   "id": "5bad966e",
   "metadata": {},
   "outputs": [],
   "source": [
    "dataset1\n",
    "dataset2"
   ]
  },
  {
   "cell_type": "code",
   "execution_count": null,
   "id": "a0b81020",
   "metadata": {},
   "outputs": [],
   "source": [
    "dataset3 = tf.data.Dataset.zip((dataset1, dataset2))\n",
    "dataset3"
   ]
  },
  {
   "cell_type": "code",
   "execution_count": null,
   "id": "cf3d00f2",
   "metadata": {},
   "outputs": [],
   "source": [
    "for i in dataset1:\n",
    "    print(i)"
   ]
  },
  {
   "cell_type": "code",
   "execution_count": null,
   "id": "df2dffad",
   "metadata": {},
   "outputs": [],
   "source": [
    "for i in dataset2:\n",
    "    print(i)"
   ]
  },
  {
   "cell_type": "code",
   "execution_count": null,
   "id": "91b2dc24",
   "metadata": {},
   "outputs": [],
   "source": [
    "for i in dataset3:\n",
    "    print(i)\n",
    "    "
   ]
  },
  {
   "cell_type": "code",
   "execution_count": 19,
   "id": "5615b0e2",
   "metadata": {},
   "outputs": [
    {
     "name": "stderr",
     "output_type": "stream",
     "text": [
      "/home/fusionsystems/Dokumente/gpa/tensorflow/lib/python3.9/site-packages/tqdm/auto.py:22: TqdmWarning: IProgress not found. Please update jupyter and ipywidgets. See https://ipywidgets.readthedocs.io/en/stable/user_install.html\n",
      "  from .autonotebook import tqdm as notebook_tqdm\n"
     ]
    }
   ],
   "source": [
    "import tensorflow_datasets as tfds\n",
    "\n",
    "(ds_train, ds_test), ds_info = tfds.load('fashion_mnist', data_dir='.',\n",
    "                                             split=['train', 'test'], shuffle_files=True,\n",
    "                                             as_supervised=True,\n",
    "                                             with_info=True)\n",
    "\n",
    "\n",
    "\n"
   ]
  },
  {
   "cell_type": "code",
   "execution_count": null,
   "id": "8fdbb677",
   "metadata": {},
   "outputs": [],
   "source": [
    "for image, label in ds_train:\n",
    "    # we get only single image\n",
    "    print(image.shape()) # ()\n",
    "    print(label.shape())"
   ]
  },
  {
   "cell_type": "code",
   "execution_count": null,
   "id": "5ea61123",
   "metadata": {},
   "outputs": [],
   "source": []
  },
  {
   "cell_type": "code",
   "execution_count": null,
   "id": "2753e5f3",
   "metadata": {},
   "outputs": [],
   "source": []
  },
  {
   "cell_type": "code",
   "execution_count": null,
   "id": "f405d977",
   "metadata": {},
   "outputs": [],
   "source": []
  }
 ],
 "metadata": {
  "kernelspec": {
   "display_name": "Python 3 (ipykernel)",
   "language": "python",
   "name": "python3"
  },
  "language_info": {
   "codemirror_mode": {
    "name": "ipython",
    "version": 3
   },
   "file_extension": ".py",
   "mimetype": "text/x-python",
   "name": "python",
   "nbconvert_exporter": "python",
   "pygments_lexer": "ipython3",
   "version": "3.9.13"
  }
 },
 "nbformat": 4,
 "nbformat_minor": 5
}
